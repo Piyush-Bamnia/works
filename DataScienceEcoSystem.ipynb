{
 "cells": [
  {
   "cell_type": "markdown",
   "id": "5aca51ea-bbd3-49e9-b348-f6a99bd50807",
   "metadata": {},
   "source": [
    "# Data Science Tools and Eco System"
   ]
  },
  {
   "cell_type": "markdown",
   "id": "3d99b3bc-7174-4786-8593-cfa20fda2d65",
   "metadata": {},
   "source": [
    "In this NoteBook, Data Science Tolls And Eco System are summersized"
   ]
  },
  {
   "cell_type": "markdown",
   "id": "cd279a33-db74-4e81-90e0-2c71b624c081",
   "metadata": {},
   "source": [
    "**Objectives:**\n",
    "\n",
    "- Understand the fundamentals of Data Science and its significance in the modern world.\n",
    "- List popular languages for Data Science, including Python, R, and SQL.\n",
    "- Explore various open-source tools and libraries used in Data Science workflows.\n",
    "- Gain practical experience with data manipulation and analysis using Pandas.\n",
    "- Learn the basics of creating visualizations with tools like Matplotlib and Seaborn.\n"
   ]
  },
  {
   "cell_type": "markdown",
   "id": "ae632d6f-c7e9-4303-945e-42bf19676563",
   "metadata": {},
   "source": [
    "Some of the popular languages which are used in data science are :-\n",
    "\n",
    "1. Python\n",
    "2. R language\n",
    "3. SQL \n",
    "4. C language"
   ]
  },
  {
   "cell_type": "markdown",
   "id": "32ccaf63-0481-4941-9b7f-32180222d557",
   "metadata": {},
   "source": [
    "Some of the comman used libraries in data science are :-\n",
    "\n",
    "1. Numpy\n",
    "2. Pandas \n",
    "3. Scifi\n",
    "4. Mataplotlip"
   ]
  },
  {
   "cell_type": "markdown",
   "id": "09db07ce-09af-41d6-818c-1bcc08e7b3a8",
   "metadata": {},
   "source": [
    "| Data Science Tools |\n",
    "|--------------------|\n",
    "| Jupyter Notebooks  |\n",
    "| RStudio            |\n",
    "| Visual Studio Code |\n"
   ]
  },
  {
   "cell_type": "markdown",
   "id": "4e64e436-446c-44e8-9d42-58bd9b17d1d1",
   "metadata": {},
   "source": [
    "### There are some examples of arthmatice operation in pythone:-"
   ]
  },
  {
   "cell_type": "code",
   "execution_count": 5,
   "id": "c918d9cc-8309-435c-889e-50f5be947f7d",
   "metadata": {
    "tags": []
   },
   "outputs": [
    {
     "data": {
      "text/plain": [
       "17"
      ]
     },
     "execution_count": 5,
     "metadata": {},
     "output_type": "execute_result"
    }
   ],
   "source": [
    "# this is an simple arthmatice operation of adding and multiplying two number\n",
    "\n",
    "(3*4)+5"
   ]
  },
  {
   "cell_type": "code",
   "execution_count": 10,
   "id": "b9b9a8cf-6553-451e-8138-fcdf933f2bbb",
   "metadata": {
    "tags": []
   },
   "outputs": [
    {
     "data": {
      "text/plain": [
       "3.3333333333333335"
      ]
     },
     "execution_count": 10,
     "metadata": {},
     "output_type": "execute_result"
    }
   ],
   "source": [
    "# this will convert 200 min into hours by divide 60\n",
    "\n",
    "200/60"
   ]
  },
  {
   "cell_type": "markdown",
   "id": "999676ff-7ebc-4ad8-8283-5cef23f18ed2",
   "metadata": {},
   "source": [
    "## Author\n",
    "\n",
    "Piyush Bamnia"
   ]
  },
  {
   "cell_type": "code",
   "execution_count": null,
   "id": "2bea7ba8-a46f-45e3-92cf-a65eb0acee64",
   "metadata": {},
   "outputs": [],
   "source": []
  }
 ],
 "metadata": {
  "kernelspec": {
   "display_name": "Python",
   "language": "python",
   "name": "conda-env-python-py"
  },
  "language_info": {
   "codemirror_mode": {
    "name": "ipython",
    "version": 3
   },
   "file_extension": ".py",
   "mimetype": "text/x-python",
   "name": "python",
   "nbconvert_exporter": "python",
   "pygments_lexer": "ipython3",
   "version": "3.7.12"
  }
 },
 "nbformat": 4,
 "nbformat_minor": 5
}
